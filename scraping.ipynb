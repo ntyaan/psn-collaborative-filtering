{
 "cells": [
  {
   "cell_type": "code",
   "execution_count": null,
   "metadata": {},
   "outputs": [],
   "source": [
    "import codecs\n",
    "import sys\n",
    "import urllib.request\n",
    "import bs4\n",
    "import os\n",
    "import time\n",
    "import re\n",
    "from selenium import webdriver"
   ]
  },
  {
   "cell_type": "code",
   "execution_count": null,
   "metadata": {
    "collapsed": true
   },
   "outputs": [],
   "source": [
    "#URL\n",
    "LIST_URL = 'https://psnprofiles.com/leaderboard/all?page='\n",
    "MAIN_URL = 'https://psnprofiles.com'"
   ]
  },
  {
   "cell_type": "code",
   "execution_count": null,
   "metadata": {
    "collapsed": true
   },
   "outputs": [],
   "source": [
    "#ディレクトリ名\n",
    "GAME_PATH = '../../psn_game'\n",
    "USER_PATH = GAME_PATH + '/user' \n",
    "DATA_PATH = GAME_PATH + '/data'"
   ]
  },
  {
   "cell_type": "code",
   "execution_count": null,
   "metadata": {
    "collapsed": true
   },
   "outputs": [],
   "source": [
    "#重くなるから平均だけとる\n",
    "game_trofy = []\n",
    "#出現回数\n",
    "game_count = []\n",
    "#ユーザ名リスト\n",
    "user_id_list = []\n",
    "#ゲームURL\n",
    "game_urls = []\n",
    "#game_information=[['game_url',image_url',['ps4','ps3','vita']]]\n",
    "game_information = []"
   ]
  },
  {
   "cell_type": "code",
   "execution_count": null,
   "metadata": {
    "collapsed": true
   },
   "outputs": [],
   "source": [
    "filename_games = DATA_PATH + '/games.txt'\n",
    "filename_games2 = DATA_PATH + '/games+.txt'\n",
    "filename_images = DATA_PATH + '/images.txt'\n",
    "filename_platform = DATA_PATH + '/platform.txt'\n",
    "filename_average = DATA_PATH + '/average.txt'\n",
    "filename_count = DATA_PATH + '/count.txt'\n",
    "filename_game_url = DATA_PATH + '/games_url.txt'\n",
    "filename_users = DATA_PATH + '/users.txt'"
   ]
  },
  {
   "cell_type": "code",
   "execution_count": null,
   "metadata": {
    "collapsed": true
   },
   "outputs": [],
   "source": [
    "#重くなるから平均だけとる\n",
    "game_trofy = []\n",
    "#出現回数\n",
    "game_count = []\n",
    "#ユーザ名リスト\n",
    "user_id_list = []\n",
    "#ゲームURL\n",
    "game_urls = []\n",
    "#game_information=[['game_url',image_url',['ps4','ps3','vita']]]\n",
    "game_information = []\n",
    "#読み出し\n",
    "f = open(filename_average,\"r\")\n",
    "for x in f:\n",
    "    game_trofy.append(x.rstrip(\"\\n\"))\n",
    "f.close()\n",
    "\n",
    "f = open(filename_count,\"r\")\n",
    "for x in f:\n",
    "    game_count.append(int(x.rstrip(\"\\n\")))\n",
    "f.close()\n",
    "\n",
    "f = open(filename_users,\"r\")\n",
    "for x in f:\n",
    "    user_id_list.append(x.rstrip(\"\\n\"))\n",
    "f.close()\n",
    "\n",
    "f = open(filename_game_url,'r')\n",
    "for x in f:\n",
    "    game_urls.append(x.rstrip(\"\\n\"))\n",
    "    \n",
    "f1 = open(filename_games2, 'r')\n",
    "f2 = open(filename_images, 'r')\n",
    "f3 = open(filename_platform, 'r')\n",
    "for (i,j,k) in zip(f1,f2,f3):\n",
    "    li = []\n",
    "    li.append(i.strip('\\n'))\n",
    "    li.append(j.strip('\\n'))\n",
    "    l = []\n",
    "    l.append(int(k[0]))\n",
    "    l.append(int(k[2]))\n",
    "    l.append(int(k[4]))\n",
    "    li.append(l)\n",
    "    game_information.append(li)"
   ]
  },
  {
   "cell_type": "code",
   "execution_count": null,
   "metadata": {
    "collapsed": true
   },
   "outputs": [],
   "source": [
    "#ページをクロール\n",
    "def get_userlist(start, pages):\n",
    "    #ユーザをリストに\n",
    "    id_list = []\n",
    "    for i in range(start, start+pages):\n",
    "        #leaderboadから取得する\n",
    "        list_url = LIST_URL + str(i)\n",
    "        try:\n",
    "            page_html = urllib.request.urlopen(list_url).read()\n",
    "        except Exception as e:\n",
    "                estr = str(i) + \" is 404\"\n",
    "                print(estr)\n",
    "                continue\n",
    "        soup = bs4.BeautifulSoup(page_html,'lxml')\n",
    "        table = soup.find('table', id ='leaderboard')\n",
    "        user_list = table.find_all('a', class_ = 'title')\n",
    "        for href in user_list:\n",
    "            id = href.get('href')\n",
    "            #既にとったIDならリストに加えない\n",
    "            if user_id_list.count(id.strip('/'))==0:\n",
    "                #ユーザをリストに加える\n",
    "                id_list.append(id)\n",
    "    return id_list"
   ]
  },
  {
   "cell_type": "code",
   "execution_count": null,
   "metadata": {
    "collapsed": true
   },
   "outputs": [],
   "source": [
    "#ページスクロール soupを返す\n",
    "def get_page_scroll(url):\n",
    "    #PhantomJs\n",
    "    #https://gist.github.com/julionc/7476620\n",
    "    driver = webdriver.PhantomJS()\n",
    "    driver.get(url)\n",
    "    #スクロールダウン\n",
    "    #スクロールされてるか判断する部分\n",
    "    lastHeight = driver.execute_script(\"return document.body.scrollHeight\")\n",
    "    soup = []\n",
    "    while True:\n",
    "        #スクロールダウン\n",
    "        driver.execute_script(\"window.scrollTo(0, document.body.scrollHeight);\")  \n",
    "        #読み込まれるのを待つ\n",
    "        time.sleep(5)\n",
    "        newHeight = driver.execute_script(\"return document.body.scrollHeight\")\n",
    "        page_html = driver.page_source.encode('utf-8')\n",
    "        soup = bs4.BeautifulSoup(page_html,'lxml')\n",
    "        #スクロールされてるか判断する部分\n",
    "        if newHeight == lastHeight:\n",
    "            break\n",
    "        lastHeight = newHeight\n",
    "    return soup"
   ]
  },
  {
   "cell_type": "code",
   "execution_count": null,
   "metadata": {
    "collapsed": true
   },
   "outputs": [],
   "source": [
    "#平均トロフィー取得率取得\n",
    "def get_average_trofy(arg):\n",
    "    try:\n",
    "        url = MAIN_URL+arg\n",
    "        print(url)\n",
    "        regex = r'[^\\x00-\\x7F]'\n",
    "        matchedList = re.findall(regex,url)\n",
    "        for m in matchedList:\n",
    "            url = url.replace(m, urllib.parse.quote_plus(m, encoding=\"utf-8\"))\n",
    "        game_urls.append(url)\n",
    "        soup=bs4.BeautifulSoup(urllib.request.urlopen(url).read(),'lxml')\n",
    "    except Exception as e:\n",
    "        estr=str(arg)+\" is 404\"\n",
    "        print(estr)\n",
    "        return\n",
    "    stats = soup.find('div', attrs = {'class':'stats flex'}).get_text()\n",
    "    tmp = re.findall(r'\\d\\d?%Average Completion',stats)\n",
    "    str = tmp[0].replace('%Average Completion','')\n",
    "    game_trofy.append(str)"
   ]
  },
  {
   "cell_type": "code",
   "execution_count": null,
   "metadata": {
    "collapsed": true
   },
   "outputs": [],
   "source": [
    "#game_information=[['game_url',image_url',['ps4','ps3','vita']]]\n",
    "#game_information = []\n",
    "#game_trofy=[owners,recent players, platinum achievers, average, earned]\n",
    "#重くなるから平均だけとる\n",
    "#game_trofy = []\n",
    "#get_info('/mmilkkr', GAME_PATH + '/mmilkkr.txt')\n",
    "#print(game_trofy)"
   ]
  },
  {
   "cell_type": "code",
   "execution_count": null,
   "metadata": {
    "collapsed": true
   },
   "outputs": [],
   "source": [
    "#ユーザの情報取得\n",
    "def get_info(id, filename):\n",
    "    #ユーザ名を1行めに書き込む\n",
    "    f = open(filename, 'w')\n",
    "    #ユーザ情報\n",
    "    user_list = []\n",
    "    #URL\n",
    "    url = MAIN_URL + id \n",
    "    soup = get_page_scroll(url)\n",
    "    #ゲーム画像とゲーム名\n",
    "    #tableタグ取得\n",
    "    Table = soup.find('table', attrs={'class':'zebra', 'id':'gamesTable'})\n",
    "    if Table==None:\n",
    "        print('private user')\n",
    "        return -1\n",
    "    user_id_list.append(id.strip('/'))\n",
    "    #トロフィー平均取得率を得るためのゲームURL\n",
    "    Game = Table.find_all('div', attrs={'class':'ellipsis'})\n",
    "    #pictureタグ取得\n",
    "    PIC = Table.find_all('picture', attrs={'class':'game'})\n",
    "    #ユーザトロフィー取得率\n",
    "    TOR = Table.find_all('div', attrs={'class':'progress-bar'})\n",
    "    #プラットフォーム取得\n",
    "    PLA = Table.find_all('div', attrs={'class':'platforms'})\n",
    "    for (i,pic) in enumerate(PIC):\n",
    "        LIST = []\n",
    "        #imgタグ取得\n",
    "        IMG = pic.find('img')\n",
    "        #ゲームURL\n",
    "        #game_name=Game[i].get_text().replace('\\n','').replace('\\t','').replace('•', '・')\n",
    "        game_url = Game[i].a.get('href').replace(id,'')\n",
    "        #print(MAIN_URL+'/'+game_url)\n",
    "        #ゲームの追加\n",
    "        LIST.append(game_url)\n",
    "        #ゲーム画像URL追加\n",
    "        try:\n",
    "            LIST.append(IMG['src'])\n",
    "        except:\n",
    "            print(id,' image url none:')\n",
    "            None\n",
    "        #プラットフォーム取得\n",
    "        try:\n",
    "            Pla = [0,0,0]\n",
    "            for pla in PLA[i].find_all('span'):\n",
    "                if 'PS4' in pla:\n",
    "                    Pla[0]=1\n",
    "                elif 'PS3' in pla:\n",
    "                    Pla[1]=1\n",
    "                elif 'Vita' in pla:\n",
    "                    Pla[2]=1\n",
    "                else:\n",
    "                    pass\n",
    "            LIST.append(Pla)\n",
    "        except:\n",
    "            print(id,' platform none:')\n",
    "            None\n",
    "        if user_list.count(LIST)==0:\n",
    "            user_list.append(LIST)\n",
    "        #まだ取得していなゲームなら追加\n",
    "        if game_information.count(LIST)==0:\n",
    "            #平均トロフィー取得率取得\n",
    "            get_average_trofy(game_url)\n",
    "            game_information.append(LIST)\n",
    "            index = game_information.index(LIST)\n",
    "            game_count.append(1)\n",
    "            print(index, game_count[index])\n",
    "        else:\n",
    "            index = game_information.index(LIST)\n",
    "            game_count[index]=game_count[index]+1\n",
    "            print(index, game_count[index])\n",
    "    #ユーザトロフィー\n",
    "    for (i,list) in enumerate(user_list):\n",
    "        tor = TOR[i].find('span').get_text().strip('%')\n",
    "        f.write(str(game_information.index(list))+'\\t'+tor+'\\n')"
   ]
  },
  {
   "cell_type": "code",
   "execution_count": null,
   "metadata": {
    "scrolled": true
   },
   "outputs": [],
   "source": [
    "if __name__ == '__main__':\n",
    "    CURRENT = 2000\n",
    "    try:\n",
    "        os.makedirs(USER_PATH)\n",
    "        os.makedirs(DATA_PATH)\n",
    "    except FileExistsError:\n",
    "        pass\n",
    "    #ページ指定\n",
    "    #start_pages=[100]\n",
    "    start_pages=[1000,2000,3000,10000,15000,17000,20000,30000]\n",
    "    #何人ずつ得るか\n",
    "    #number_of_users=[2]\n",
    "    number_of_users = [250,250,250,250,250,250,250,250]\n",
    "    #合計人数\n",
    "    all_number_of_user = 0\n",
    "    for i in number_of_users:\n",
    "         all_number_of_user = all_number_of_user + i\n",
    "    j=0\n",
    "    for (start, number) in zip(start_pages,number_of_users):\n",
    "        #leaderboad,1ページ辺り50人得られる 第二引数10で500人\n",
    "        id_list = get_userlist(start, 20)\n",
    "        i=0\n",
    "        for id in id_list:\n",
    "            print(MAIN_URL+id)\n",
    "            usercount = i+number*j+CURRENT\n",
    "            fname = USER_PATH + '/' + str(usercount) + '.txt'\n",
    "            #ユーザ情報が非公開ならインクリメントしない\n",
    "            if get_info(id, fname) == -1:\n",
    "                i=i-1\n",
    "            i=i+1\n",
    "            if i == number:\n",
    "                break\n",
    "        j = j+1\n",
    "    print('ゲーム数:\\t',len(game_information),'\\tユーザ数:', all_number_of_user+CURRENT)"
   ]
  },
  {
   "cell_type": "code",
   "execution_count": null,
   "metadata": {
    "collapsed": true
   },
   "outputs": [],
   "source": [
    "fgame = open(filename_games, 'w')\n",
    "fgame2 = open(filename_games2, 'w')\n",
    "fimage = open(filename_images, 'w')\n",
    "fplatform = open(filename_platform, 'w')\n",
    "faverage = open(filename_average, 'w')\n",
    "for i in range(len(game_information)):\n",
    "    tmp = re.sub(r'/trophies/\\d*-','',game_information[i][0])\n",
    "    fgame.write(tmp+'\\n')\n",
    "    fgame2.write(game_information[i][0]+\"\\n\")\n",
    "    fimage.write(game_information[i][1]+'\\n')\n",
    "    for j in range(0,3):\n",
    "        fplatform.write(str(game_information[i][2][j])+'\\t')\n",
    "    fplatform.write('\\n')\n",
    "for i in range(len(game_trofy)):\n",
    "    faverage.write(game_trofy[i]+'\\n')\n",
    "fgame.close()\n",
    "fgame2.close()\n",
    "fimage.close()\n",
    "fplatform.close()\n",
    "faverage.close()\n",
    "#print(game_information)"
   ]
  },
  {
   "cell_type": "code",
   "execution_count": null,
   "metadata": {
    "collapsed": true
   },
   "outputs": [],
   "source": [
    "fcount = open(filename_count, 'w')\n",
    "fgame_url = open(filename_game_url, 'w')\n",
    "fgame_users = open(filename_users, 'w')\n",
    "for i in game_count:\n",
    "    fcount.write(str(i)+'\\n')\n",
    "fcount.close()\n",
    "for i in game_urls:\n",
    "    fgame_url.write(str(i)+'\\n')\n",
    "fgame_url.close()\n",
    "for i in user_id_list:\n",
    "    fgame_users.write(str(i)+'\\n')\n",
    "fgame_users.close()"
   ]
  },
  {
   "cell_type": "code",
   "execution_count": null,
   "metadata": {
    "collapsed": true
   },
   "outputs": [],
   "source": []
  },
  {
   "cell_type": "code",
   "execution_count": null,
   "metadata": {
    "collapsed": true
   },
   "outputs": [],
   "source": []
  },
  {
   "cell_type": "code",
   "execution_count": null,
   "metadata": {
    "collapsed": true
   },
   "outputs": [],
   "source": [
    "import pandas as pd\n",
    "filename_all = GAME_PATH + '/all.csv'\n",
    "df = pd.DataFrame(game_information)\n",
    "df.to_csv(filename_all, index=False)"
   ]
  },
  {
   "cell_type": "code",
   "execution_count": null,
   "metadata": {
    "collapsed": true
   },
   "outputs": [],
   "source": [
    "df = pd.read_csv(filename_all)\n",
    "list1 = df.values.tolist()"
   ]
  },
  {
   "cell_type": "code",
   "execution_count": null,
   "metadata": {
    "collapsed": true
   },
   "outputs": [],
   "source": []
  },
  {
   "cell_type": "code",
   "execution_count": null,
   "metadata": {},
   "outputs": [],
   "source": [
    "get_info('/mmilkkr', DATA_PATH + '/mmilkkr.txt')"
   ]
  },
  {
   "cell_type": "code",
   "execution_count": null,
   "metadata": {
    "collapsed": true
   },
   "outputs": [],
   "source": []
  },
  {
   "cell_type": "code",
   "execution_count": null,
   "metadata": {
    "collapsed": true
   },
   "outputs": [],
   "source": []
  },
  {
   "cell_type": "code",
   "execution_count": null,
   "metadata": {
    "collapsed": true
   },
   "outputs": [],
   "source": []
  },
  {
   "cell_type": "code",
   "execution_count": null,
   "metadata": {
    "collapsed": true
   },
   "outputs": [],
   "source": []
  }
 ],
 "metadata": {
  "kernelspec": {
   "display_name": "Python 3",
   "language": "python",
   "name": "python3"
  },
  "language_info": {
   "codemirror_mode": {
    "name": "ipython",
    "version": 3
   },
   "file_extension": ".py",
   "mimetype": "text/x-python",
   "name": "python",
   "nbconvert_exporter": "python",
   "pygments_lexer": "ipython3",
   "version": "3.6.3"
  }
 },
 "nbformat": 4,
 "nbformat_minor": 2
}
